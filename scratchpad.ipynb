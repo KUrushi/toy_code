{
  "nbformat": 4,
  "nbformat_minor": 0,
  "metadata": {
    "colab": {
      "name": "scratchpad",
      "provenance": [],
      "include_colab_link": true
    },
    "kernelspec": {
      "display_name": "Python 3",
      "name": "python3"
    }
  },
  "cells": [
    {
      "cell_type": "markdown",
      "metadata": {
        "id": "view-in-github",
        "colab_type": "text"
      },
      "source": [
        "<a href=\"https://colab.research.google.com/github/KUrushi/toy_code/blob/main/scratchpad.ipynb\" target=\"_parent\"><img src=\"https://colab.research.google.com/assets/colab-badge.svg\" alt=\"Open In Colab\"/></a>"
      ]
    },
    {
      "cell_type": "code",
      "metadata": {
        "colab": {
          "base_uri": "https://localhost:8080/"
        },
        "id": "lIYdn1woOS1n",
        "outputId": "ea7ddf29-3c55-4821-a7a5-150f3fe7a737"
      },
      "source": [
        "! pip install ml_collections"
      ],
      "execution_count": 36,
      "outputs": [
        {
          "output_type": "stream",
          "text": [
            "Collecting ml_collections\n",
            "  Downloading ml_collections-0.1.0-py3-none-any.whl (88 kB)\n",
            "\u001b[?25l\r\u001b[K     |███▊                            | 10 kB 22.8 MB/s eta 0:00:01\r\u001b[K     |███████▍                        | 20 kB 28.6 MB/s eta 0:00:01\r\u001b[K     |███████████                     | 30 kB 29.9 MB/s eta 0:00:01\r\u001b[K     |██████████████▉                 | 40 kB 31.0 MB/s eta 0:00:01\r\u001b[K     |██████████████████▌             | 51 kB 32.7 MB/s eta 0:00:01\r\u001b[K     |██████████████████████▏         | 61 kB 34.6 MB/s eta 0:00:01\r\u001b[K     |█████████████████████████▉      | 71 kB 31.2 MB/s eta 0:00:01\r\u001b[K     |█████████████████████████████▋  | 81 kB 31.9 MB/s eta 0:00:01\r\u001b[K     |████████████████████████████████| 88 kB 6.2 MB/s \n",
            "\u001b[?25hRequirement already satisfied: contextlib2 in /usr/local/lib/python3.7/dist-packages (from ml_collections) (0.5.5)\n",
            "Requirement already satisfied: PyYAML in /usr/local/lib/python3.7/dist-packages (from ml_collections) (3.13)\n",
            "Requirement already satisfied: absl-py in /usr/local/lib/python3.7/dist-packages (from ml_collections) (0.12.0)\n",
            "Requirement already satisfied: six in /usr/local/lib/python3.7/dist-packages (from ml_collections) (1.15.0)\n",
            "Installing collected packages: ml-collections\n",
            "Successfully installed ml-collections-0.1.0\n"
          ],
          "name": "stdout"
        }
      ]
    },
    {
      "cell_type": "code",
      "metadata": {
        "id": "HUJC_WkdB_ct"
      },
      "source": [
        "import ml_collections\n",
        "cfg = ml_collections.ConfigDict()\n",
        "cfg.float_field = 12.6\n",
        "cfg.integer_field = 123\n",
        "cfg.anthoer_integer_field = 234\n",
        "cfg.nested = ml_collections.ConfigDict()\n",
        "cfg.nested.string_field = 'tom'"
      ],
      "execution_count": 1,
      "outputs": []
    },
    {
      "cell_type": "code",
      "metadata": {
        "id": "2FVHW4OGCPji",
        "outputId": "48f06d8f-5433-4031-b8f6-0035ac126801",
        "colab": {
          "base_uri": "https://localhost:8080/"
        }
      },
      "source": [
        "print(cfg.integer_field)\n",
        "print(cfg['integer_field'])\n",
        "\n",
        "try:\n",
        "  cfg.integer_field = 'mo'\n",
        "except TypeError as e:\n",
        "  print(e)\n",
        "\n",
        "cfg.float_field = 12\n",
        "cfg.nested.string_field = u'bob'\n",
        "print(cfg)"
      ],
      "execution_count": 2,
      "outputs": [
        {
          "output_type": "stream",
          "text": [
            "123\n",
            "123\n",
            "Could not override field 'integer_field' (reference). mo is of type <class 'str'> but should be of type <class 'int'>\n",
            "anthoer_integer_field: 234\n",
            "float_field: 12.0\n",
            "integer_field: 123\n",
            "nested: {string_field: bob}\n",
            "\n"
          ],
          "name": "stdout"
        }
      ]
    },
    {
      "cell_type": "markdown",
      "metadata": {
        "id": "DReESAyQCpNT"
      },
      "source": [
        "# FrozenConfigDict\n",
        "immutable, hashable type of configdict\n"
      ]
    },
    {
      "cell_type": "code",
      "metadata": {
        "id": "r510rIxzChxQ",
        "outputId": "6b67e900-e9d5-45cd-f5ba-dc2627e1a7d9",
        "colab": {
          "base_uri": "https://localhost:8080/"
        }
      },
      "source": [
        "import ml_collections\n",
        "\n",
        "initial_dictionary = {\n",
        "    'int': 1,\n",
        "    'list': [1, 2],\n",
        "    'tuple': (1, 2, 3),\n",
        "    'set': {1, 2, 3, 4},\n",
        "    'dict_tuple_list': {'tuple_list': ([1, 2], 3)}\n",
        "}\n",
        "\n",
        "cfg = ml_collections.ConfigDict(initial_dictionary)\n",
        "frozen_dict = ml_collections.FrozenConfigDict(initial_dictionary)\n",
        "\n",
        "print(frozen_dict.tuple)\n",
        "print(frozen_dict.list)\n",
        "print(frozen_dict.set)\n",
        "print(frozen_dict.dict_tuple_list.tuple_list[0])"
      ],
      "execution_count": 3,
      "outputs": [
        {
          "output_type": "stream",
          "text": [
            "(1, 2, 3)\n",
            "(1, 2)\n",
            "frozenset({1, 2, 3, 4})\n",
            "(1, 2)\n"
          ],
          "name": "stdout"
        }
      ]
    },
    {
      "cell_type": "code",
      "metadata": {
        "id": "h_N-LHp6IlF0",
        "outputId": "7d2481e9-5d53-47fc-da20-3f8f3ead93ee",
        "colab": {
          "base_uri": "https://localhost:8080/"
        }
      },
      "source": [
        "frozen_cfg = ml_collections.FrozenConfigDict(cfg)\n",
        "print(frozen_cfg == frozen_dict)\n",
        "print(hash(frozen_cfg) == hash(frozen_dict))"
      ],
      "execution_count": 5,
      "outputs": [
        {
          "output_type": "stream",
          "text": [
            "True\n",
            "True\n"
          ],
          "name": "stdout"
        }
      ]
    },
    {
      "cell_type": "code",
      "metadata": {
        "id": "22tuS0IPIucR",
        "outputId": "0b68381e-3d07-4d96-aa0b-71f4ccc02baf",
        "colab": {
          "base_uri": "https://localhost:8080/"
        }
      },
      "source": [
        "try:\n",
        "  frozen_dict.int = 2\n",
        "except AttributeError as e:\n",
        "  print(e)"
      ],
      "execution_count": 6,
      "outputs": [
        {
          "output_type": "stream",
          "text": [
            "FrozenConfigDict is immutable. Cannot call __setattr__().\n"
          ],
          "name": "stdout"
        }
      ]
    },
    {
      "cell_type": "code",
      "metadata": {
        "id": "Jy1T5roWI1V3",
        "outputId": "8ea49093-63f0-4218-ca71-e266fe1da866",
        "colab": {
          "base_uri": "https://localhost:8080/"
        }
      },
      "source": [
        "thawed_frozen_cfg = ml_collections.ConfigDict(frozen_dict)\n",
        "print(thawed_frozen_cfg == cfg)  # True\n",
        "frozen_cfg_to_cfg = frozen_dict.as_configdict()\n",
        "print(frozen_cfg_to_cfg == cfg)  # True"
      ],
      "execution_count": 7,
      "outputs": [
        {
          "output_type": "stream",
          "text": [
            "True\n",
            "True\n"
          ],
          "name": "stdout"
        }
      ]
    },
    {
      "cell_type": "markdown",
      "metadata": {
        "id": "OqmRNunqI9pP"
      },
      "source": [
        "# FieldReferences and placeholders\n",
        "\n",
        "FieldReferenceは、複数のフィールドで同じ値を使用する場合に便利です。また、遅延計算にも使用できます。\n",
        "\n",
        "`placeholder()` をショートカットとして使用すると、デフォルト値が None の FieldReference (フィールド) を作成できます。これは、プログラムでオプションの構成フィールドを使用する場合に便利です。"
      ]
    },
    {
      "cell_type": "code",
      "metadata": {
        "id": "WLfGNH-LI75I"
      },
      "source": [
        "import ml_collections\n",
        "from ml_collections.config_dict import config_dict\n",
        "\n",
        "placeholder = ml_collections.FieldReference(0)\n",
        "cfg = ml_collections.ConfigDict()\n",
        "cfg.placeholder = placeholder\n",
        "cfg.optional = config_dict.placeholder(int)\n",
        "cfg.nested = ml_collections.ConfigDict()\n",
        "cfg.nested.placeholder = placeholder\n"
      ],
      "execution_count": 8,
      "outputs": []
    },
    {
      "cell_type": "code",
      "metadata": {
        "id": "beJFe41FJeZg",
        "outputId": "dcd8056b-1c30-4d3f-a72b-62d69abd8062",
        "colab": {
          "base_uri": "https://localhost:8080/"
        }
      },
      "source": [
        "try:\n",
        "  cfg.optional = 'tom'\n",
        "except TypeError as e:\n",
        "  print(e)"
      ],
      "execution_count": 9,
      "outputs": [
        {
          "output_type": "stream",
          "text": [
            "Could not override field 'optional' (reference). tom is of type <class 'str'> but should be of type <class 'int'>\n"
          ],
          "name": "stdout"
        }
      ]
    },
    {
      "cell_type": "code",
      "metadata": {
        "id": "iqsCE4F1Jj-J",
        "outputId": "d59ec054-0f91-4244-f485-d2dc1007e63c",
        "colab": {
          "base_uri": "https://localhost:8080/"
        }
      },
      "source": [
        "print(cfg)"
      ],
      "execution_count": 11,
      "outputs": [
        {
          "output_type": "stream",
          "text": [
            "nested: {placeholder: 0}\n",
            "optional: null\n",
            "placeholder: 0\n",
            "\n"
          ],
          "name": "stdout"
        }
      ]
    },
    {
      "cell_type": "code",
      "metadata": {
        "id": "bUzHHxGzJnUo"
      },
      "source": [
        "cfg.optional = 12345\n",
        "cfg.placeholder = 1"
      ],
      "execution_count": 12,
      "outputs": []
    },
    {
      "cell_type": "code",
      "metadata": {
        "id": "NPCbWi5pJwT7",
        "outputId": "e11c3ebd-ad6a-4acb-b4ba-c14fe50c5a7b",
        "colab": {
          "base_uri": "https://localhost:8080/"
        }
      },
      "source": [
        "print(cfg)"
      ],
      "execution_count": 13,
      "outputs": [
        {
          "output_type": "stream",
          "text": [
            "nested: {placeholder: 1}\n",
            "optional: 12345\n",
            "placeholder: 1\n",
            "\n"
          ],
          "name": "stdout"
        }
      ]
    },
    {
      "cell_type": "code",
      "metadata": {
        "id": "mqjFbj1qJw4x",
        "outputId": "f0536d3e-b1a0-4a5d-cae6-92981c580b91",
        "colab": {
          "base_uri": "https://localhost:8080/"
        }
      },
      "source": [
        "import ml_collections\n",
        "cfg = ml_collections.ConfigDict()\n",
        "placeholder = ml_collections.FieldReference(0)\n",
        "cfg.field1 = placeholder\n",
        "print(cfg)\n",
        "cfg.field2 = placeholder  # This field will be tied to cfg.field1.\n",
        "print(cfg)\n",
        "cfg.field3 = cfg.field1  \n",
        "print(cfg)\n"
      ],
      "execution_count": 15,
      "outputs": [
        {
          "output_type": "stream",
          "text": [
            "{field1: 0}\n",
            "\n",
            "{field1: 0, field2: 0}\n",
            "\n",
            "{field1: 0, field2: 0, field3: 0}\n",
            "\n"
          ],
          "name": "stdout"
        }
      ]
    },
    {
      "cell_type": "markdown",
      "metadata": {
        "id": "6UMeDykZKHi4"
      },
      "source": [
        "\n",
        "FieldReferencesとプレースホルダー\n",
        "\n",
        "FieldReferenceは、複数のフィールドで同じ値を使用する場合に便利です。また、遅延計算にも使用できます。\n",
        "\n",
        "placeholder() をショートカットとして使用すると、デフォルト値が None の FieldReference (フィールド) を作成できます。これは、プログラムでオプションの構成フィールドを使用する場合に便利です。\n"
      ]
    },
    {
      "cell_type": "code",
      "metadata": {
        "id": "GPskl4DzJ9qQ",
        "outputId": "c54eda1c-0bdd-4183-e080-5ea7b0cefba2",
        "colab": {
          "base_uri": "https://localhost:8080/"
        }
      },
      "source": [
        "import ml_collections\n",
        "ref = ml_collections.FieldReference(1)\n",
        "print(ref.get())\n",
        "\n",
        "add_ten  = ref.get() + 10\n",
        "add_ten_lazy = ref + 10\n",
        "\n",
        "print(add_ten)\n",
        "print(add_ten_lazy.get())\n",
        "\n",
        "ref.set(5)\n",
        "print(add_ten)\n",
        "print(add_ten_lazy.get())"
      ],
      "execution_count": 16,
      "outputs": [
        {
          "output_type": "stream",
          "text": [
            "1\n",
            "11\n",
            "11\n",
            "11\n",
            "15\n"
          ],
          "name": "stdout"
        }
      ]
    },
    {
      "cell_type": "markdown",
      "metadata": {
        "id": "FWLlgRS2KhWU"
      },
      "source": [
        "FieldReferenceがその元の値としてNoneを持っている場合、または何らかの操作がNoneの引数を持っている場合、遅延計算はNoneと評価されます。\n",
        "\n",
        "また、ConfigDictのフィールドを遅延計算に使用することもできます。この場合、ConfigDict.get_ref()を使用してフィールドを取得した場合のみ、遅延計算が行われます。"
      ]
    },
    {
      "cell_type": "code",
      "metadata": {
        "id": "W0k0tkg9KbAy",
        "outputId": "45ae09d0-fec9-42aa-b097-944a49a4e1fe",
        "colab": {
          "base_uri": "https://localhost:8080/"
        }
      },
      "source": [
        "import ml_collections\n",
        "\n",
        "config = ml_collections.ConfigDict()\n",
        "config.reference_field = ml_collections.FieldReference(1)\n",
        "config.integer_field = 2\n",
        "config.float_field = 2.5\n",
        "\n",
        "# No lazy evaluatuations because we didn't use get_ref()\n",
        "config.no_lazy = config.integer_field * config.float_field\n",
        "\n",
        "# This will lazily evaluate ONLY config.integer_field\n",
        "config.lazy_integer = config.get_ref('integer_field') * config.float_field\n",
        "\n",
        "# This will lazily evaluate ONLY config.float_field\n",
        "config.lazy_float = config.integer_field * config.get_ref('float_field')\n",
        "\n",
        "# This will lazily evaluate BOTH config.integer_field and config.float_Field\n",
        "config.lazy_both = (config.get_ref('integer_field') *\n",
        "                    config.get_ref('float_field'))\n",
        "\n",
        "config.integer_field = 3\n",
        "print(config.no_lazy)  # Prints 5.0 - It uses integer_field's original value\n",
        "\n",
        "print(config.lazy_integer)  # Prints 7.5\n",
        "\n",
        "config.float_field = 3.5\n",
        "print(config.lazy_float)  # Prints 7.0\n",
        "print(config.lazy_both)  # Prints 10.5"
      ],
      "execution_count": 17,
      "outputs": [
        {
          "output_type": "stream",
          "text": [
            "5.0\n",
            "7.5\n",
            "7.0\n",
            "10.5\n"
          ],
          "name": "stdout"
        }
      ]
    },
    {
      "cell_type": "markdown",
      "metadata": {
        "id": "c5p8mBuhLOwG"
      },
      "source": [
        "\n",
        "遅延計算された値の変更\n",
        "\n",
        "ConfigDict内の遅延計算された値は、通常の値と同じ方法で上書きすることができます。遅延計算に使われたFieldReferenceへの参照は失われ、参照グラフの下流のすべての計算は新しい値を使用します。\n"
      ]
    },
    {
      "cell_type": "code",
      "metadata": {
        "id": "sM5dvfLhLDHO",
        "outputId": "4eb74ac8-d5f8-4347-f21b-15fe27d4018c",
        "colab": {
          "base_uri": "https://localhost:8080/"
        }
      },
      "source": [
        "import ml_collections\n",
        "config = ml_collections.ConfigDict()\n",
        "config.reference = 1\n",
        "config.reference_0 = config.get_ref('reference') + 10\n",
        "config.reference_1 = config.get_ref('reference') + 20\n",
        "config.reference_1_0 = config.get_ref('reference_1') + 100\n",
        "\n",
        "print(config.reference)  # Prints 1.\n",
        "print(config.reference_0)  # Prints 11.\n",
        "print(config.reference_1)  # Prints 21.\n",
        "print(config.reference_1_0)  # Prints 121.\n",
        "\n",
        "config.reference_1 = 30\n",
        "\n",
        "print(config.reference)  # Prints 1 (unchanged).\n",
        "print(config.reference_0)  # Prints 11 (unchanged).\n",
        "print(config.reference_1)  # Prints 30.\n",
        "print(config.reference_1_0)  # Prints 130."
      ],
      "execution_count": 18,
      "outputs": [
        {
          "output_type": "stream",
          "text": [
            "1\n",
            "11\n",
            "21\n",
            "121\n",
            "1\n",
            "11\n",
            "30\n",
            "130\n"
          ],
          "name": "stdout"
        }
      ]
    },
    {
      "cell_type": "code",
      "metadata": {
        "id": "GB3EbwkTLR_F",
        "outputId": "a48d0cad-dd2e-4094-95c6-688195b5ccc1",
        "colab": {
          "base_uri": "https://localhost:8080/"
        }
      },
      "source": [
        "import ml_collections\n",
        "from ml_collections.config_dict import config_dict\n",
        "\n",
        "config = ml_collections.ConfigDict()\n",
        "config.integer_field = 1\n",
        "config.bigger_integer_field = config.get_ref('integer_field') + 10\n",
        "\n",
        "try:\n",
        "  # Raises a MutabilityError because setting config.integer_field would\n",
        "  # cause a cycle.\n",
        "  config.integer_field = config.get_ref('bigger_integer_field') + 2\n",
        "except config_dict.MutabilityError as e:\n",
        "  print(e)"
      ],
      "execution_count": 19,
      "outputs": [
        {
          "output_type": "stream",
          "text": [
            "Found cycle in reference graph.\n"
          ],
          "name": "stdout"
        }
      ]
    },
    {
      "cell_type": "markdown",
      "metadata": {
        "id": "OfES_DnnLen7"
      },
      "source": [
        "# Advanced Usage"
      ]
    },
    {
      "cell_type": "code",
      "metadata": {
        "id": "RYkynNLbLYby",
        "outputId": "6dcc13ce-cb48-49cf-a527-8e5545097411",
        "colab": {
          "base_uri": "https://localhost:8080/"
        }
      },
      "source": [
        "import ml_collections\n",
        "config = ml_collections.ConfigDict()\n",
        "\n",
        "config.float_field = 12.6\n",
        "config.integer_field = 123\n",
        "config.list_field = [0, 1, 2]\n",
        "\n",
        "config.float_multiply_field = config.get_ref('float_field') * 3\n",
        "\n",
        "print(config.float_multiply_field)\n",
        "\n",
        "config.float_field = 10.0\n",
        "print(config.float_multiply_field)\n",
        "\n",
        "\n",
        "config.longer_list_field = config.get_ref('list_field') +  [3, 4, 5]\n",
        "print(config.longer_list_field)\n",
        "\n",
        "\n",
        "config.list_field = [-1]\n",
        "print(config.longer_list_field)  # Prints [-1, 3, 4, 5]\n",
        "\n",
        "# Both operands can be references\n",
        "config.ref_subtraction = (\n",
        "    config.get_ref('float_field') - config.get_ref('integer_field'))\n",
        "print(config.ref_subtraction)  # Prints -113.0\n",
        "\n",
        "config.integer_field = 10\n",
        "print(config.ref_subtraction) "
      ],
      "execution_count": 21,
      "outputs": [
        {
          "output_type": "stream",
          "text": [
            "37.8\n",
            "30.0\n",
            "[0, 1, 2, 3, 4, 5]\n",
            "[-1, 3, 4, 5]\n",
            "-113.0\n",
            "0.0\n"
          ],
          "name": "stdout"
        }
      ]
    },
    {
      "cell_type": "code",
      "metadata": {
        "id": "TZwzqmf9L-5O",
        "outputId": "7fa8d7fb-7fa5-49bf-ad51-f1bddd6fe47a",
        "colab": {
          "base_uri": "https://localhost:8080/"
        }
      },
      "source": [
        "import ml_collections\n",
        "\n",
        "dict_1 = {'list': [1, 2]}\n",
        "dict_2 = {'list': (1, 2)}\n",
        "cfg_1 = ml_collections.ConfigDict(dict_1)\n",
        "frozen_cfg_1 = ml_collections.FrozenConfigDict(dict_1)\n",
        "frozen_cfg_2 = ml_collections.FrozenConfigDict(dict_2)\n",
        "\n",
        "# True because FrozenConfigDict converts lists to tuples\n",
        "print(frozen_cfg_1.items() == frozen_cfg_2.items())\n",
        "# False because == distinguishes the underlying difference\n",
        "print(frozen_cfg_1 == frozen_cfg_2)\n",
        "\n",
        "# False because == distinguishes these types\n",
        "print(frozen_cfg_1 == cfg_1)\n",
        "# But eq_as_configdict() treats both as ConfigDict, so these are True:\n",
        "print(frozen_cfg_1.eq_as_configdict(cfg_1))\n",
        "print(cfg_1.eq_as_configdict(frozen_cfg_1))"
      ],
      "execution_count": 22,
      "outputs": [
        {
          "output_type": "stream",
          "text": [
            "True\n",
            "False\n",
            "False\n",
            "True\n",
            "True\n"
          ],
          "name": "stdout"
        }
      ]
    },
    {
      "cell_type": "code",
      "metadata": {
        "id": "XhOrMUzvMHIg",
        "outputId": "a1f5bd75-82aa-4b9e-ed4c-beba8844691e",
        "colab": {
          "base_uri": "https://localhost:8080/"
        }
      },
      "source": [
        "import copy\n",
        "import ml_collections\n",
        "\n",
        "cfg = ml_collections.ConfigDict()\n",
        "cfg.integer_field = 123\n",
        "\n",
        "# Locking prohibits the addition and deletion of new fields but allows\n",
        "# modification of existing values.\n",
        "cfg.lock()\n",
        "try:\n",
        "  cfg.integer_field = 124  # Raises AttributeError and suggests valid field.\n",
        "except AttributeError as e:\n",
        "  print(e)\n",
        "with cfg.unlocked():\n",
        "  cfg.integer_field = 1555  # Works fine too.\n",
        "\n",
        "# Get a copy of the config dict.\n",
        "new_cfg = copy.deepcopy(cfg)\n",
        "new_cfg.integer_field = -123  # Works fine.\n",
        "\n",
        "print(cfg)"
      ],
      "execution_count": 23,
      "outputs": [
        {
          "output_type": "stream",
          "text": [
            "{integer_field: 1555}\n",
            "\n"
          ],
          "name": "stdout"
        }
      ]
    },
    {
      "cell_type": "markdown",
      "metadata": {
        "id": "ZKrQr4XAMkEU"
      },
      "source": [
        "コンフィグフラグ\n",
        "\n",
        "このライブラリは、設定ファイルを扱うために absl.flags にフラグ定義を追加します。このライブラリは absl.flags をラップしていないので、標準的なフラグ定義を設定ファイルのフラグと一緒に使う場合は、ユーザは absl.flags もインポートしなければなりません。\n",
        "\n",
        "現在、このモジュールは2つの新しいフラグタイプ、すなわち、設定を生成するPythonファイルへのパスを受け入れるDEFINE_config_fileと、設定を直接受け入れるDEFINE_config_dictを追加しています。DEFINE_config_dict は設定を直接受け取ることができます。設定は辞書のような構造体(ConfigDict を参照)で、そのネストされた要素は特別なコマンドラインフラグを使ってオーバーライドすることができます。詳細については，以下の例を参照してください．\n",
        "\n",
        "www.DeepL.com/Translator（無料版）で翻訳しました。"
      ]
    },
    {
      "cell_type": "code",
      "metadata": {
        "id": "2Vb-WoB7MUYO",
        "outputId": "b54da0ab-5a48-4280-f8e6-cf95c355e145",
        "colab": {
          "base_uri": "https://localhost:8080/"
        }
      },
      "source": [
        "%%writefile script.py\n",
        "from absl import app\n",
        "from absl import flags\n",
        "\n",
        "from ml_collections.config_flags import config_flags\n",
        "\n",
        "FLAGS = flags.FLAGS\n",
        "config_flags.DEFINE_config_file('my_config')\n",
        "\n",
        "def main(_):\n",
        "  print(FLAGS.my_config)\n",
        "\n",
        "if __name__ == \"__main__\":\n",
        "  app.run(main)"
      ],
      "execution_count": 24,
      "outputs": [
        {
          "output_type": "stream",
          "text": [
            "Writing script.py\n"
          ],
          "name": "stdout"
        }
      ]
    },
    {
      "cell_type": "code",
      "metadata": {
        "id": "PXJHZAyYNgyK",
        "outputId": "d2f4647f-3ed1-4769-eed1-74828c478995",
        "colab": {
          "base_uri": "https://localhost:8080/"
        }
      },
      "source": [
        "%%writefile config.py\n",
        "\n",
        "import ml_collections\n",
        "def get_config():\n",
        "  config = ml_collections.ConfigDict()\n",
        "  config.field1 = 1\n",
        "  config.field2 = 'tom'\n",
        "  config.nested = ml_collections.ConfigDict()\n",
        "  config.nested.field = 2.23\n",
        "  config.tuple = (1, 2, 3)\n",
        "  return config"
      ],
      "execution_count": 26,
      "outputs": [
        {
          "output_type": "stream",
          "text": [
            "Writing config.py\n"
          ],
          "name": "stdout"
        }
      ]
    },
    {
      "cell_type": "code",
      "metadata": {
        "id": "happR2QINiiK",
        "outputId": "b946c97c-6c50-434a-a40b-a9ca4ba53b65",
        "colab": {
          "base_uri": "https://localhost:8080/"
        }
      },
      "source": [
        "%%bash\n",
        "python script.py --my_config=config.py \\\n",
        "                 --my_config.field1=8 \\\n",
        "                 --my_config.nested.field=2.1 \\\n",
        "                 --my_config.tuple='(1, 2, (1, 2))'"
      ],
      "execution_count": 27,
      "outputs": [
        {
          "output_type": "stream",
          "text": [
            "field1: 8\n",
            "field2: tom\n",
            "nested: {field: 2.1}\n",
            "tuple: !!python/tuple\n",
            "- 1\n",
            "- 2\n",
            "- !!python/tuple [1, 2]\n",
            "\n"
          ],
          "name": "stdout"
        }
      ]
    },
    {
      "cell_type": "code",
      "metadata": {
        "id": "zAUA_O6ENvnu",
        "outputId": "d870f865-0556-4775-f98e-f833434f4e43",
        "colab": {
          "base_uri": "https://localhost:8080/"
        }
      },
      "source": [
        "%%writefile script.py\n",
        "from absl import app\n",
        "from absl import flags\n",
        "\n",
        "import ml_collections\n",
        "from ml_collections.config_flags import config_flags\n",
        "\n",
        "config = ml_collections.ConfigDict()\n",
        "config.field = 1\n",
        "config.field2 = 'tom'\n",
        "config.nested = ml_collections.ConfigDict()\n",
        "config.nested.field = 2.23\n",
        "config.tuple = (1, 2, 3)\n",
        "\n",
        "\n",
        "FLAGS = flags.FLAGS\n",
        "config_flags.DEFINE_config_dict('my_config', config)\n",
        "\n",
        "def main(_):\n",
        "  print(FLAGS.my_config)\n",
        "\n",
        "\n",
        "if __name__ == \"__main__\":\n",
        "  app.run()"
      ],
      "execution_count": 28,
      "outputs": [
        {
          "output_type": "stream",
          "text": [
            "Overwriting script.py\n"
          ],
          "name": "stdout"
        }
      ]
    },
    {
      "cell_type": "code",
      "metadata": {
        "id": "JtjqvWM8PFN6",
        "outputId": "31c4d87a-0d8b-447b-b3c9-c4fb08469192",
        "colab": {
          "base_uri": "https://localhost:8080/"
        }
      },
      "source": [
        "from absl import logging\n",
        "\n",
        "logging.info(\"Interesting Stuff\")\n",
        "logging.info(f'Interesting Stuff with Arguments: {42}')\n",
        "\n",
        "logging.set_verbosity(logging.INFO)\n",
        "logging.log(logging.DEBUG, \"This wil *not* be printed\")\n",
        "logging.set_verbosity(logging.DEBUG)\n",
        "logging.debug(\"This will be printed\")\n",
        "\n",
        "logging.warning(\"Worrying Stuff\")\n",
        "logging.error(\"Alarming Stuff\")\n",
        "logging.fatal(\"AAAAHHHHH!!!!\")"
      ],
      "execution_count": 30,
      "outputs": [
        {
          "output_type": "stream",
          "text": [
            "INFO:absl:Interesting Stuff\n",
            "INFO:absl:Interesting Stuff with Arguments: 42\n",
            "DEBUG:absl:This will be printed\n",
            "WARNING:absl:Worrying Stuff\n",
            "ERROR:absl:Alarming Stuff\n",
            "CRITICAL:absl:AAAAHHHHH!!!!\n"
          ],
          "name": "stderr"
        }
      ]
    },
    {
      "cell_type": "code",
      "metadata": {
        "id": "NjP386uPQmWp",
        "outputId": "8c0cfd3d-edef-4a0f-a2c7-f5b4d2b3db2e",
        "colab": {
          "base_uri": "https://localhost:8080/"
        }
      },
      "source": [
        "try:\n",
        "  1 / 0\n",
        "except ZeroDivisionError as e:\n",
        "  logging.exception(\n",
        "      \"わからん 😴\"\n",
        "  )"
      ],
      "execution_count": 33,
      "outputs": [
        {
          "output_type": "stream",
          "text": [
            "ERROR:absl:わからん 😴\n",
            "Traceback (most recent call last):\n",
            "  File \"<ipython-input-33-86d0955c8379>\", line 2, in <module>\n",
            "    1 / 0\n",
            "ZeroDivisionError: division by zero\n"
          ],
          "name": "stderr"
        }
      ]
    },
    {
      "cell_type": "code",
      "metadata": {
        "id": "pNrtyURaSBVJ",
        "outputId": "4dac4770-fbdf-4c6c-8dc5-87f2fce2dd6f",
        "colab": {
          "base_uri": "https://localhost:8080/",
          "height": 372
        }
      },
      "source": [
        "import codecs\n",
        "import contextlib\n",
        "import copy\n",
        "import os\n",
        "import re\n",
        "import subprocess\n",
        "import sys\n",
        "import tempfile\n",
        "import unittest\n",
        "\n",
        "from absl import app\n",
        "from absl import flags\n",
        "from absl._enum_module import enum\n",
        "from absl.testing import _bazelize_command\n",
        "from absl.testing import absltest\n",
        "from absl.testing import flagsaver\n",
        "from absl.tests import app_test_helper\n",
        "import mock\n",
        "import six"
      ],
      "execution_count": 34,
      "outputs": [
        {
          "output_type": "error",
          "ename": "ModuleNotFoundError",
          "evalue": "ignored",
          "traceback": [
            "\u001b[0;31m---------------------------------------------------------------------------\u001b[0m",
            "\u001b[0;31mModuleNotFoundError\u001b[0m                       Traceback (most recent call last)",
            "\u001b[0;32m<ipython-input-34-bd6ae298c068>\u001b[0m in \u001b[0;36m<module>\u001b[0;34m()\u001b[0m\n\u001b[1;32m     15\u001b[0m \u001b[0;32mfrom\u001b[0m \u001b[0mabsl\u001b[0m\u001b[0;34m.\u001b[0m\u001b[0mtesting\u001b[0m \u001b[0;32mimport\u001b[0m \u001b[0mabsltest\u001b[0m\u001b[0;34m\u001b[0m\u001b[0;34m\u001b[0m\u001b[0m\n\u001b[1;32m     16\u001b[0m \u001b[0;32mfrom\u001b[0m \u001b[0mabsl\u001b[0m\u001b[0;34m.\u001b[0m\u001b[0mtesting\u001b[0m \u001b[0;32mimport\u001b[0m \u001b[0mflagsaver\u001b[0m\u001b[0;34m\u001b[0m\u001b[0;34m\u001b[0m\u001b[0m\n\u001b[0;32m---> 17\u001b[0;31m \u001b[0;32mfrom\u001b[0m \u001b[0mabsl\u001b[0m\u001b[0;34m.\u001b[0m\u001b[0mtests\u001b[0m \u001b[0;32mimport\u001b[0m \u001b[0mapp_test_helper\u001b[0m\u001b[0;34m\u001b[0m\u001b[0;34m\u001b[0m\u001b[0m\n\u001b[0m\u001b[1;32m     18\u001b[0m \u001b[0;32mimport\u001b[0m \u001b[0mmock\u001b[0m\u001b[0;34m\u001b[0m\u001b[0;34m\u001b[0m\u001b[0m\n\u001b[1;32m     19\u001b[0m \u001b[0;32mimport\u001b[0m \u001b[0msix\u001b[0m\u001b[0;34m\u001b[0m\u001b[0;34m\u001b[0m\u001b[0m\n",
            "\u001b[0;31mModuleNotFoundError\u001b[0m: No module named 'absl.tests'",
            "",
            "\u001b[0;31m---------------------------------------------------------------------------\u001b[0;32m\nNOTE: If your import is failing due to a missing package, you can\nmanually install dependencies using either !pip or !apt.\n\nTo view examples of installing some common dependencies, click the\n\"Open Examples\" button below.\n\u001b[0;31m---------------------------------------------------------------------------\u001b[0m\n"
          ]
        }
      ]
    },
    {
      "cell_type": "code",
      "metadata": {
        "id": "94M8t5qqTh3u"
      },
      "source": [
        ""
      ],
      "execution_count": null,
      "outputs": []
    }
  ]
}